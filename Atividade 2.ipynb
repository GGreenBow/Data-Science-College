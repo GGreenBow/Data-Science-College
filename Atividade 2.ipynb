{
  "nbformat": 4,
  "nbformat_minor": 0,
  "metadata": {
    "colab": {
      "name": "Titanic.ipynb",
      "provenance": [],
      "collapsed_sections": []
    },
    "kernelspec": {
      "name": "python3",
      "display_name": "Python 3"
    },
    "language_info": {
      "name": "python"
    }
  },
  "cells": [
    {
      "cell_type": "markdown",
      "source": [
        "Nomes: Debora Freitas Lobão; Giovanna Arcoverde de Sousa Constâncio"
      ],
      "metadata": {
        "id": "1xZJ7PAYpXuI"
      }
    },
    {
      "cell_type": "markdown",
      "source": [
        "A seguir, importamos as bibliotecas que serão usadas para analise dos dados e estilização (seaborn).\n",
        "\n",
        "Após as importações, temos o set do arquivo que importamos e definição de uma váriavel com o .csv importado para que possamos usá-lo para análise."
      ],
      "metadata": {
        "id": "G53aHlRcQ86i"
      }
    },
    {
      "cell_type": "code",
      "source": [
        "import os\n",
        "import zipfile\n",
        "import pandas as pd\n",
        "import numpy as np\n",
        "import seaborn as sns\n",
        "import matplotlib.pyplot as plt\n",
        "\n",
        "pd.options.mode.chained_assignment = None\n",
        "sns.set(style='whitegrid', palette='Set2', font_scale=1.2)\n",
        "\n",
        "local_zip = 'titanic.zip'\n",
        "zip_ref = zipfile.ZipFile(local_zip, 'r')\n",
        "zip_ref.extractall('titanic')\n",
        "zip_ref.close()\n",
        "\n",
        "train_data = pd.read_csv('titanic/train.csv')\n",
        "train_data.head()"
      ],
      "metadata": {
        "id": "qXP_fjZOpg3Y"
      },
      "execution_count": null,
      "outputs": []
    },
    {
      "cell_type": "code",
      "source": [
        "test_data = pd.read_csv('titanic/test.csv')\n",
        "test_data.head()"
      ],
      "metadata": {
        "id": "Eq8lF7YQrOrm"
      },
      "execution_count": null,
      "outputs": []
    },
    {
      "cell_type": "markdown",
      "source": [
        "Aqui imprimimos o número de colunas e linhas dos datasets de treino e teste."
      ],
      "metadata": {
        "id": "dFWgV3uJZcyc"
      }
    },
    {
      "cell_type": "code",
      "source": [
        "print('Shape of train dataset {}'.format(train_data.shape))\n",
        "print('Shape of test dataset {}'.format(test_data.shape))"
      ],
      "metadata": {
        "id": "YSBm78nSrSnO"
      },
      "execution_count": null,
      "outputs": []
    },
    {
      "cell_type": "markdown",
      "source": [
        "Agora estamos descrevendo os dados, incluindo aqueles absolutos."
      ],
      "metadata": {
        "id": "3RWMD1Z6q_zN"
      }
    },
    {
      "cell_type": "code",
      "source": [
        "train_data.describe(include='all') "
      ],
      "metadata": {
        "id": "esoFs2L9rU09"
      },
      "execution_count": null,
      "outputs": []
    },
    {
      "cell_type": "markdown",
      "source": [
        "Aqui estamos tentando descobrir se Jack estava registrado no navio. No caso desta base de dados ele não foi constatado, apenas existe um Jackson."
      ],
      "metadata": {
        "id": "BXpaN5wlURth"
      }
    },
    {
      "cell_type": "code",
      "source": [
        "train_data.describe(include='all')\n",
        "train_data[train_data[\"Name\"].str.contains('Jack', na=False)]"
      ],
      "metadata": {
        "id": "vbdHcVpIq1XP"
      },
      "execution_count": null,
      "outputs": []
    },
    {
      "cell_type": "markdown",
      "source": [
        "Nesta parte do código, vemos se os dados são consistentes, vendo se algo está duplicado ou faltando;\n",
        "\n",
        "No caso ele indica que não há dados duplicados, mas que existem dados nulos."
      ],
      "metadata": {
        "id": "bmiTIZLKVI1x"
      }
    },
    {
      "cell_type": "code",
      "source": [
        "print('\\nNull Values in Training \\n{}'.format(train_data.isnull().sum()))\n",
        "print('\\nNull Values in Testing \\n{}'.format(test_data.isnull().sum()))\n",
        "\n",
        "print('\\nDuplicated values in train {}'.format(train_data.duplicated().sum()))\n",
        "print('Duplicated values in test {}'.format(test_data.duplicated().sum()))"
      ],
      "metadata": {
        "id": "gt2GiYeqq_6e"
      },
      "execution_count": null,
      "outputs": []
    },
    {
      "cell_type": "markdown",
      "source": [
        "Aqui pegamos a moda dos valores das tarifas, ou seja, os valores mais comuns, para preencher os 2 dados que ficaram nulos."
      ],
      "metadata": {
        "id": "Nv7Pd1XdWuGm"
      }
    },
    {
      "cell_type": "code",
      "source": [
        "print('Embarkation per ports \\n{}'.format(train_data['Embarked'].value_counts()))\n",
        "\n",
        "train_data['Embarked'].fillna(value='S', inplace=True)\n",
        "test_data['Fare'].fillna(value=test_data.Fare.mean(), inplace=True)\n",
        "\n",
        "print('Embarkation per ports after filling \\n{}'.format(train_data['Embarked'].value_counts()))"
      ],
      "metadata": {
        "id": "GfzLKaRwreYI"
      },
      "execution_count": null,
      "outputs": []
    },
    {
      "cell_type": "markdown",
      "source": [
        "Agora para preencher as idades dividimos os dados pelos pronomes de tratamento (as siglas para senhorita, senhor, etc. em inglês) e fazemos a média de cada uma dessas categorias pra preencher as \"células\" vazias;\n",
        "esses dados são exibidos no final de acordo com os pronomes;\n",
        "\n",
        "Ao final, geramos um mapa de calor para saber a quantidade de dados vazios que restaram, no caso apenas da cabine (já que as outras duas colunas ja foram tratadas e preenchidas)"
      ],
      "metadata": {
        "id": "FcGhJ-wSXVxH"
      }
    },
    {
      "cell_type": "code",
      "source": [
        "mean_age_miss = round(train_data[train_data[\"Name\"].str.contains('Miss.', na=False)]['Age'].mean())\n",
        "mean_age_mrs = round(train_data[train_data[\"Name\"].str.contains('Mrs.', na=False)]['Age'].mean())\n",
        "mean_age_mr = round(train_data[train_data[\"Name\"].str.contains('Mr.', na=False)]['Age'].mean())\n",
        "mean_age_master = round(train_data[train_data[\"Name\"].str.contains('Master.', na=False)]['Age'].mean())\n",
        "\n",
        "#mean_age_miss = train_data[train_data[\"Name\"].str.contains('Miss.', na=False)]['Age'].mean().round()\n",
        "#mean_age_mrs = train_data[train_data[\"Name\"].str.contains('Mrs.', na=False)]['Age'].mean().round()\n",
        "#mean_age_mr = train_data[train_data[\"Name\"].str.contains('Mr.', na=False)]['Age'].mean().round()\n",
        "#mean_age_master = train_data[train_data[\"Name\"].str.contains('Master.', na=False)]['Age'].mean().round()\n",
        "\n",
        "print('Mean age of Miss. title {}'.format(mean_age_miss))\n",
        "print('Mean age of Mrs. title {}'.format(mean_age_mrs))\n",
        "print('Mean age of Mr. title {}'.format(mean_age_mr))\n",
        "print('Mean age of Master. title {}'.format(mean_age_master))\n",
        "\n",
        "def fill_age(name_age):\n",
        "    \n",
        "    name = name_age[0]\n",
        "    age = name_age[1]\n",
        "    \n",
        "    if pd.isnull(age):\n",
        "        if 'Mr.' in name:\n",
        "            return mean_age_mr\n",
        "        if 'Mrs.' in name:\n",
        "            return mean_age_mrs\n",
        "        if 'Miss.' in name:\n",
        "            return mean_age_miss\n",
        "        if 'Master.' in name:\n",
        "            return mean_age_master\n",
        "        if 'Dr.' in name:\n",
        "            return mean_age_master\n",
        "        if 'Ms.' in name:\n",
        "            return mean_age_miss\n",
        "    else:\n",
        "        return age\n",
        "\n",
        "train_data['Age'] = train_data[['Name', 'Age']].apply(fill_age,axis=1)\n",
        "test_data['Age'] = test_data[['Name', 'Age']].apply(fill_age,axis=1)\n",
        "\n",
        "fig, (ax1,ax2) = plt.subplots(1, 2, figsize=(14,5))\n",
        "sns.heatmap(train_data.isnull(),cmap='copper', ax=ax1)\n",
        "sns.heatmap(train_data.isnull(), cmap='copper', ax=ax2)\n",
        "plt.tight_layout()"
      ],
      "metadata": {
        "id": "Y0jeB8dqsHIu"
      },
      "execution_count": null,
      "outputs": []
    },
    {
      "cell_type": "markdown",
      "source": [
        "Definimos então que quando a \"célula\" for nula, definiremos a cabine como X"
      ],
      "metadata": {
        "id": "rosdVI-pfRik"
      }
    },
    {
      "cell_type": "code",
      "source": [
        "train_data['Cabin'] = pd.Series(['X' if pd.isnull(ii) else ii[0] for ii in train_data['Cabin']])\n",
        "test_data['Cabin'] = pd.Series(['X' if pd.isnull(ii) else ii[0] for ii in test_data['Cabin']])"
      ],
      "metadata": {
        "id": "bXhfFtvBsQu-"
      },
      "execution_count": null,
      "outputs": []
    },
    {
      "cell_type": "markdown",
      "source": [
        "Aqui fazemos um gráfico para saber as taxas de cada tipo de cabine, lembrando que no caso o X é relativo aos dados nulos na base."
      ],
      "metadata": {
        "id": "i4fXN462cTHU"
      }
    },
    {
      "cell_type": "code",
      "source": [
        "plt.figure(figsize=(12,5))\n",
        "plt.title('Box Plot of Temperatures by Modules')\n",
        "sns.boxplot(x='Cabin',y='Fare',data=train_data, palette='Set2')\n",
        "plt.tight_layout()"
      ],
      "metadata": {
        "id": "n3omwCp3sSqt",
        "colab": {
          "base_uri": "https://localhost:8080/",
          "height": 360
        },
        "outputId": "a9ff1a39-fa3d-4fe4-c0c5-a6a2710c53a7"
      },
      "execution_count": null,
      "outputs": [
        {
          "output_type": "display_data",
          "data": {
            "text/plain": [
              "<Figure size 864x360 with 1 Axes>"
            ],
            "image/png": "[encoded data removed]"
          },
          "metadata": {}
        }
      ]
    },
    {
      "cell_type": "markdown",
      "source": [
        "Aqui definimos a média de tarifa pra as cabines que possuem mais dados."
      ],
      "metadata": {
        "id": "4Yvy7R7mcEMM"
      }
    },
    {
      "cell_type": "code",
      "source": [
        "print('Mean Fare of Cabin B {}'.format(train_data[train_data['Cabin']=='B']['Fare'].mean()))\n",
        "print('Mean Fare of Cabin C {}'.format(train_data[train_data['Cabin']=='C']['Fare'].mean()))\n",
        "print('Mean Fare of Cabin D {}'.format(train_data[train_data['Cabin']=='D']['Fare'].mean()))\n",
        "print('Mean Fare of Cabin E {}'.format(train_data[train_data['Cabin']=='E']['Fare'].mean()))"
      ],
      "metadata": {
        "id": "6nzTMUSgsWBE",
        "colab": {
          "base_uri": "https://localhost:8080/"
        },
        "outputId": "8fd26c89-5861-4f04-e488-615e6a837fcd"
      },
      "execution_count": null,
      "outputs": [
        {
          "output_type": "stream",
          "name": "stdout",
          "text": [
            "Mean Fare of Cabin B 113.50576382978724\n",
            "Mean Fare of Cabin C 100.15134067796612\n",
            "Mean Fare of Cabin D 57.24457575757576\n",
            "Mean Fare of Cabin E 46.026693749999986\n"
          ]
        }
      ]
    },
    {
      "cell_type": "markdown",
      "source": [
        "Após considerar as médias, retiramos os outliers da classe x e colocamos nas suas respectivas classes, para uma maior consistência de dados."
      ],
      "metadata": {
        "id": "DrGo-247gbOC"
      }
    },
    {
      "cell_type": "code",
      "source": [
        "def reasign_cabin(cabin_fare):\n",
        "    \n",
        "    cabin = cabin_fare[0]\n",
        "    fare = cabin_fare[1]\n",
        "    \n",
        "    if cabin=='X':\n",
        "        if (fare >= 113.5):\n",
        "            return 'B'\n",
        "        if ((fare < 113.5) and (fare > 100)):\n",
        "            return 'C'\n",
        "        if ((fare < 100) and (fare > 57)):\n",
        "            return 'D'\n",
        "        if ((fare < 57) and (fare > 46)):\n",
        "            return 'D'\n",
        "        else:\n",
        "            return 'X'\n",
        "    else:\n",
        "        return cabin"
      ],
      "metadata": {
        "id": "k2_q1ZcXsXW8"
      },
      "execution_count": null,
      "outputs": []
    },
    {
      "cell_type": "markdown",
      "source": [
        "Agora geramos um gráfico atualizado com os valores das tarifas atribuídas a X - nota-se que a variação mudou e há menos outliers (as bolinhas), já que foram encaixadas nas classes."
      ],
      "metadata": {
        "id": "BeqtJRJtfu9t"
      }
    },
    {
      "cell_type": "code",
      "source": [
        "train_data['Cabin'] = train_data[['Cabin', 'Fare']].apply(reasign_cabin, axis=1)\n",
        "test_data['Cabin'] = test_data[['Cabin', 'Fare']].apply(reasign_cabin, axis=1)\n",
        "\n",
        "plt.figure(figsize=(12,5))\n",
        "plt.title('Box Plot of Temperatures by Modules')\n",
        "sns.boxplot(x='Cabin',y='Fare',data=train_data, palette='Set2')\n",
        "plt.tight_layout()"
      ],
      "metadata": {
        "id": "2tW8qCrzsZeF",
        "colab": {
          "base_uri": "https://localhost:8080/",
          "height": 360
        },
        "outputId": "1e900598-6336-48ce-a241-704f95d4954e"
      },
      "execution_count": null,
      "outputs": [
        {
          "output_type": "display_data",
          "data": {
            "text/plain": [
              "<Figure size 864x360 with 1 Axes>"
            ],
            "image/png": "[encoded data removed]"
          },
          "metadata": {}
        }
      ]
    },
    {
      "cell_type": "markdown",
      "source": [
        "Após todo o tratamento dos dados, podemos ver que nenhuma coluna está vazia, permitindo uma melhor análise."
      ],
      "metadata": {
        "id": "H9ecO7Eccyf_"
      }
    },
    {
      "cell_type": "code",
      "source": [
        "print('\\nNull Values in Training \\n{}'.format(train_data.isnull().sum()))"
      ],
      "metadata": {
        "id": "LOcdcf2Tsbq-",
        "colab": {
          "base_uri": "https://localhost:8080/"
        },
        "outputId": "b62bf97b-7e8b-4d50-e10a-b70c86ec3ee2"
      },
      "execution_count": null,
      "outputs": [
        {
          "output_type": "stream",
          "name": "stdout",
          "text": [
            "\n",
            "Null Values in Training \n",
            "PassengerId    0\n",
            "Survived       0\n",
            "Pclass         0\n",
            "Name           0\n",
            "Sex            0\n",
            "Age            0\n",
            "SibSp          0\n",
            "Parch          0\n",
            "Ticket         0\n",
            "Fare           0\n",
            "Cabin          0\n",
            "Embarked       0\n",
            "dtype: int64\n"
          ]
        }
      ]
    },
    {
      "cell_type": "markdown",
      "source": [
        "A partir daqui, são feitas análises extras para incrementar o estudo;\n",
        "\n",
        "A seguir são feitos gráficos em barra mostrando a quantidade de parentes entre os tripulantes, sendo respectivamente entre irmãos, conjuges, pais e filhos e distribuição entre classes."
      ],
      "metadata": {
        "id": "2Jx4lD38hPYw"
      }
    },
    {
      "cell_type": "code",
      "source": [
        "fig, axx = plt.subplots(1, 3, figsize=(20,5))\n",
        "axx[0].set_title('Amounth of Siblins/Spouses')\n",
        "sns.countplot(x='SibSp', data=train_data, ax=axx[0])\n",
        "axx[1].set_title('Amounth of parents/children')\n",
        "sns.countplot(x='Parch', data=train_data, ax=axx[1])\n",
        "axx[2].set_title('Distribution of Classes')\n",
        "sns.countplot(x='Pclass', data=train_data, ax=axx[2])\n",
        "plt.tight_layout()"
      ],
      "metadata": {
        "id": "S-PzHylfsemF",
        "colab": {
          "base_uri": "https://localhost:8080/",
          "height": 244
        },
        "outputId": "1f585820-e5d0-4820-9b34-4f199da40096"
      },
      "execution_count": null,
      "outputs": [
        {
          "output_type": "display_data",
          "data": {
            "text/plain": [
              "<Figure size 1440x360 with 3 Axes>"
            ],
            "image/png": "[encoded data removed]"
          },
          "metadata": {}
        }
      ]
    },
    {
      "cell_type": "markdown",
      "source": [
        "Aqui são separadas as pessoas que viajam sozinhas das que estão com seus parentes, baseado nos atributos do SibSp e Parch, e também no tamanho da família.\n",
        "\n",
        "Então são criados gráficos a partir dos sobreviventes, quantidade de pessoas:"
      ],
      "metadata": {
        "id": "VW3OTTilhzwU"
      }
    },
    {
      "cell_type": "code",
      "source": [
        "def create_alone_feature(SibSp_Parch):\n",
        "    if (SibSp_Parch[0]+SibSp_Parch[1])==0:\n",
        "        return 1\n",
        "    else:\n",
        "        return 0"
      ],
      "metadata": {
        "id": "i3I9ismWshEV"
      },
      "execution_count": null,
      "outputs": []
    },
    {
      "cell_type": "code",
      "source": [
        "train_data['Alone'] = train_data[['SibSp','Parch']].apply(create_alone_feature, axis=1)\n",
        "train_data['Familiars'] = 1 + train_data['SibSp'] + train_data['Parch']\n",
        "\n",
        "test_data['Alone'] = test_data[['SibSp','Parch']].apply(create_alone_feature, axis=1)\n",
        "test_data['Familiars'] = 1 + test_data['SibSp'] + test_data['Parch']"
      ],
      "metadata": {
        "id": "Iu6EoLWTsiRW"
      },
      "execution_count": null,
      "outputs": []
    },
    {
      "cell_type": "markdown",
      "source": [
        "Através dos gráficos percebemos que a maior parte das pessoas morreram no incidente. A maior parte dos sobreviventes eram composto por mulheres, e aqueles que morreram, em sua grande maioria, faziam parte da classe baixa."
      ],
      "metadata": {
        "id": "O9hJt-wbuf3U"
      }
    },
    {
      "cell_type": "code",
      "source": [
        "fig, axx = plt.subplots(2, 3, figsize=(20,10))\n",
        "axx[0,0].set_title('Survivors')\n",
        "sns.countplot(x='Survived', data=train_data, ax=axx[0,0])\n",
        "axx[0,1].set_title('Survivors by Sex')\n",
        "sns.countplot(x='Survived', hue='Sex', data=train_data, ax=axx[0,1])\n",
        "axx[0,2].set_title('Survivors by Pclass')\n",
        "sns.countplot(x='Survived', hue='Pclass', data=train_data, ax=axx[0,2])\n",
        "axx[1,0].set_title('Accompanied survivors')\n",
        "sns.countplot(x='Survived', hue='Alone', data=train_data, ax=axx[1,0])\n",
        "axx[1,1].set_title('Accompanied survivors')\n",
        "sns.countplot(x='Familiars', hue='Survived', data=train_data, ax=axx[1,1])\n",
        "axx[1,2].set_title('Alone members by Pclass')\n",
        "sns.countplot(x='Pclass', hue='Alone', data=train_data, ax=axx[1,2])\n",
        "plt.tight_layout()"
      ],
      "metadata": {
        "id": "VZ0bG1GTsj4N"
      },
      "execution_count": null,
      "outputs": []
    },
    {
      "cell_type": "markdown",
      "source": [
        "Agora iremos ver as idades e as tarifas dos sobreviventes."
      ],
      "metadata": {
        "id": "T8uETX0kvDdp"
      }
    },
    {
      "cell_type": "code",
      "source": [
        "fig, axx = plt.subplots(1, 3, figsize=(20,5))\n",
        "axx[0].set_title('Age of Survivors')\n",
        "sns.boxplot(x='Survived', y='Age', data=train_data, ax=axx[0])\n",
        "axx[1].set_title('Survivors by Sex')\n",
        "sns.boxplot(x='Survived', y='Age', hue='Sex', data=train_data, ax=axx[1])\n",
        "axx[2].set_title('Survivors by Sex')\n",
        "sns.boxplot(x='Survived', y='Age', hue='Pclass', data=train_data, ax=axx[2])\n",
        "plt.tight_layout()"
      ],
      "metadata": {
        "id": "VwUXtvCosmsG"
      },
      "execution_count": null,
      "outputs": []
    },
    {
      "cell_type": "markdown",
      "source": [
        "Os que sobreviveram eram um pouco mais jovens do que os que morreram, e as pessoas de  classe alta eram mais velhas do que as de baixa classe. Apesar de existir uma correlação entre tarifa e sobreviventes, não está sendo levado em conta categorias."
      ],
      "metadata": {
        "id": "ES2l2vHUvNEa"
      }
    },
    {
      "cell_type": "code",
      "source": [
        "fig, axx = plt.subplots(1, 2, figsize=(16,5))\n",
        "axx[0].set_title('Distribution of Fare of Dead ones')\n",
        "sns.distplot(a=train_data[train_data['Survived']==0]['Fare'], ax=axx[0], bins=30)\n",
        "axx[1].set_title('Distribution of Fare of Survived ones')\n",
        "sns.distplot(a=train_data[train_data['Survived']==1]['Fare'], ax=axx[1], bins=30)\n",
        "plt.tight_layout()"
      ],
      "metadata": {
        "id": "oPJGx-20spFN"
      },
      "execution_count": null,
      "outputs": []
    },
    {
      "cell_type": "markdown",
      "source": [
        "Sendo assim, faremos o mapeamento dos dados nas colunas Sex e Embaerked."
      ],
      "metadata": {
        "id": "V5xjjIRwvrLm"
      }
    },
    {
      "cell_type": "code",
      "source": [
        "plt.figure(figsize=(12,8))\n",
        "sns.heatmap(train_data.corr(), annot=True)\n",
        "plt.tight_layout()"
      ],
      "metadata": {
        "id": "Dp_0_cJesqX0"
      },
      "execution_count": null,
      "outputs": []
    },
    {
      "cell_type": "markdown",
      "source": [
        "Aqui usamos a função map() do pandas para mapear as categorias em números.\n",
        "\n",
        "Considerando que as mulheres fazem parte da maioria dos sobreviventes, foi definido 1 para elas e 0 para os homens, assim conseguiremos criar uma correlação positiva."
      ],
      "metadata": {
        "id": "1-LWhJITwDKo"
      }
    },
    {
      "cell_type": "code",
      "source": [
        "categories = {\"female\": 1, \"male\": 0}\n",
        "train_data['Sex']= train_data['Sex'].map(categories)\n",
        "test_data['Sex']= test_data['Sex'].map(categories)"
      ],
      "metadata": {
        "id": "Qg0y2iEisuGN"
      },
      "execution_count": null,
      "outputs": []
    },
    {
      "cell_type": "code",
      "source": [
        "categories = {\"S\": 1, \"C\": 2, \"Q\": 3}\n",
        "train_data['Embarked']= train_data['Embarked'].map(categories)\n",
        "test_data['Embarked']= test_data['Embarked'].map(categories)\n",
        "\n",
        "categories = train_data.Cabin.unique()\n",
        "train_data['Cabin'] = train_data.Cabin.astype(\"category\").cat.codes\n",
        "test_data['Cabin'] = test_data.Cabin.astype(\"category\").cat.codes"
      ],
      "metadata": {
        "id": "fZ2uaccosuev"
      },
      "execution_count": null,
      "outputs": []
    },
    {
      "cell_type": "code",
      "source": [
        "plt.figure(figsize=(14,8))\n",
        "sns.heatmap(train_data.corr(), annot=True)\n",
        "plt.tight_layout()"
      ],
      "metadata": {
        "id": "5U_nUAbesuvF"
      },
      "execution_count": null,
      "outputs": []
    },
    {
      "cell_type": "markdown",
      "source": [
        "Aqui estamos tirando as características desnecessárias como nome, o ticket e o id do passageiro."
      ],
      "metadata": {
        "id": "_dA2g1JAwsDq"
      }
    },
    {
      "cell_type": "code",
      "source": [
        "train_data = train_data.drop(['Name','Ticket','PassengerId'], axis=1)\n",
        "test_data = test_data.drop(['Name','Ticket','PassengerId'], axis=1)\n",
        "train_data.head()"
      ],
      "metadata": {
        "id": "mmChT1I1szj8"
      },
      "execution_count": null,
      "outputs": []
    },
    {
      "cell_type": "markdown",
      "source": [
        "Agora vamos normalizar os dados usanso a biblioteca MixMaxScaler do Scikit Learn, para que então a convergencia do Machine Learning seja mais rápida.\n",
        "\n",
        "Assim importamos a biblioteca e fazemos um \"drop\" na label."
      ],
      "metadata": {
        "id": "TlWWilG3w7O3"
      }
    },
    {
      "cell_type": "code",
      "source": [
        "from sklearn.preprocessing import MinMaxScaler"
      ],
      "metadata": {
        "id": "g8Ib4yvOs1kF"
      },
      "execution_count": null,
      "outputs": []
    },
    {
      "cell_type": "code",
      "source": [
        "LABEL = 'Survived'\n",
        "y = train_data[LABEL]\n",
        "train_data = train_data.drop(LABEL, axis=1)"
      ],
      "metadata": {
        "id": "hFK_LASns22E"
      },
      "execution_count": null,
      "outputs": []
    },
    {
      "cell_type": "code",
      "source": [
        "scaler = MinMaxScaler()\n",
        "scaled_train = scaler.fit_transform(train_data)\n",
        "scaled_test = scaler.transform(test_data)\n",
        "\n",
        "scaled_train = pd.DataFrame(scaled_train, columns=train_data.columns, index=train_data.index)\n",
        "scaled_test = pd.DataFrame(scaled_test, columns=test_data.columns, index=test_data.index)"
      ],
      "metadata": {
        "id": "wJAwNxFXs7JP"
      },
      "execution_count": null,
      "outputs": []
    },
    {
      "cell_type": "code",
      "source": [
        "scaled_train.head()"
      ],
      "metadata": {
        "id": "GguPCz2Ys7ad"
      },
      "execution_count": null,
      "outputs": []
    },
    {
      "cell_type": "markdown",
      "source": [
        "Aqui iremos usar o RandomForest Classifier para criar árvores de decisão para a classificação."
      ],
      "metadata": {
        "id": "1MrKbeqlyWud"
      }
    },
    {
      "cell_type": "code",
      "source": [
        "from sklearn.ensemble import RandomForestClassifier\n",
        "from sklearn import metrics\n",
        "from sklearn.model_selection import train_test_split\n",
        "from sklearn.metrics import classification_report\n",
        "from sklearn.metrics import confusion_matrix\n",
        "\n",
        "X_train, X_test, y_train, y_test = train_test_split(scaled_train, y, test_size=0.2)\n",
        "print(X_train.shape, X_test.shape)\n",
        "print(y_train.shape, y_test.shape)\n",
        "\n",
        "clf = RandomForestClassifier(n_estimators=100)\n",
        "\n",
        "\n",
        "clf.fit(X_train, y_train)"
      ],
      "metadata": {
        "colab": {
          "base_uri": "https://localhost:8080/"
        },
        "id": "ylm1D0oPs7u9",
        "outputId": "3ce3ead7-e7fc-42e7-ada9-de52fa70e886"
      },
      "execution_count": null,
      "outputs": [
        {
          "output_type": "stream",
          "name": "stdout",
          "text": [
            "(712, 10) (179, 10)\n",
            "(712,) (179,)\n"
          ]
        },
        {
          "output_type": "execute_result",
          "data": {
            "text/plain": [
              "RandomForestClassifier()"
            ]
          },
          "metadata": {},
          "execution_count": 37
        }
      ]
    },
    {
      "cell_type": "code",
      "source": [
        "feature_imp = pd.Series(clf.feature_importances_, index=scaled_train.columns).sort_values(ascending=False)\n",
        "\n",
        "\n",
        "plt.figure(figsize=(10,6))\n",
        "sns.barplot(x=feature_imp, y=feature_imp.index)\n",
        "\n",
        "plt.xlabel('Feature Importance Score')\n",
        "plt.ylabel('Features')\n",
        "plt.title(\"Visualizing Important Features\")\n",
        "plt.tight_layout()"
      ],
      "metadata": {
        "id": "Ab5totuAs_R2",
        "colab": {
          "base_uri": "https://localhost:8080/",
          "height": 432
        },
        "outputId": "d42b2cd7-fa5c-4464-a921-abac81797087"
      },
      "execution_count": null,
      "outputs": [
        {
          "output_type": "display_data",
          "data": {
            "text/plain": [
              "<Figure size 720x432 with 1 Axes>"
            ],
            "image/png": "[encoded data removed]"
          },
          "metadata": {}
        }
      ]
    },
    {
      "cell_type": "markdown",
      "source": [
        "Após a visualização do gráfico, retiraremos as características menos importantes como o Parch e Alone, assim podemos ver se a precisão dos dados podem melhorar."
      ],
      "metadata": {
        "id": "KaQLwL0my879"
      }
    },
    {
      "cell_type": "code",
      "source": [
        "new_train = scaled_train.drop(['Alone','Parch','Embarked'], axis=1)\n",
        "new_test = scaled_test.drop(['Alone','Parch','Embarked'], axis=1)\n",
        "\n",
        "X_train, X_test, y_train, y_test = train_test_split(new_train, y, test_size=0.2)\n",
        "clf = RandomForestClassifier(n_estimators=100)\n",
        "\n",
        "clf.fit(X_train, y_train)\n",
        "\n",
        "y_pred = clf.predict(X_test)\n",
        "\n",
        "print(\"   Accuracy: {}\".format(metrics.accuracy_score(y_test, y_pred)))\n",
        "\n",
        "print(classification_report(y_test,y_pred))\n",
        "\n",
        "conf_matrix = confusion_matrix(y_test, y_pred)\n",
        "\n",
        "plt.figure(figsize=(8,5))\n",
        "sns.heatmap(conf_matrix, annot=True)\n",
        "plt.title('Confusion Matrix')\n",
        "plt.tight_layout()\n",
        "\n",
        "prediction = clf.predict(new_test)\n",
        "\n",
        "test_data['Survival_Predictions'] = pd.Series(prediction)\n",
        "test_data.head()"
      ],
      "metadata": {
        "id": "dye6i99EtQiy",
        "colab": {
          "base_uri": "https://localhost:8080/",
          "height": 723
        },
        "outputId": "e39ca3fa-da26-4396-fac5-4fdf2c001feb"
      },
      "execution_count": null,
      "outputs": [
        {
          "output_type": "stream",
          "name": "stdout",
          "text": [
            "   Accuracy: 0.8212290502793296\n",
            "              precision    recall  f1-score   support\n",
            "\n",
            "           0       0.85      0.87      0.86       113\n",
            "           1       0.77      0.74      0.75        66\n",
            "\n",
            "    accuracy                           0.82       179\n",
            "   macro avg       0.81      0.80      0.81       179\n",
            "weighted avg       0.82      0.82      0.82       179\n",
            "\n"
          ]
        },
        {
          "output_type": "execute_result",
          "data": {
            "text/plain": [
              "   Pclass  Sex   Age  SibSp  Parch     Fare  Cabin  Embarked  Alone  \\\n",
              "0       3    0  34.5      0      0   7.8292      7         3      1   \n",
              "1       3    1  47.0      1      0   7.0000      7         1      0   \n",
              "2       2    0  62.0      0      0   9.6875      7         3      1   \n",
              "3       3    0  27.0      0      0   8.6625      7         1      1   \n",
              "4       3    1  22.0      1      1  12.2875      7         1      0   \n",
              "\n",
              "   Familiars  Survival_Predictions  \n",
              "0          1                     0  \n",
              "1          2                     0  \n",
              "2          1                     0  \n",
              "3          1                     1  \n",
              "4          3                     1  "
            ],
            "text/html": [
              "\n",
              "  <div id=\"df-166567c3-236b-446a-9019-c4b86e57e6a0\">\n",
              "    <div class=\"colab-df-container\">\n",
              "      <div>\n",
              "<style scoped>\n",
              "    .dataframe tbody tr th:only-of-type {\n",
              "        vertical-align: middle;\n",
              "    }\n",
              "\n",
              "    .dataframe tbody tr th {\n",
              "        vertical-align: top;\n",
              "    }\n",
              "\n",
              "    .dataframe thead th {\n",
              "        text-align: right;\n",
              "    }\n",
              "</style>\n",
              "<table border=\"1\" class=\"dataframe\">\n",
              "  <thead>\n",
              "    <tr style=\"text-align: right;\">\n",
              "      <th></th>\n",
              "      <th>Pclass</th>\n",
              "      <th>Sex</th>\n",
              "      <th>Age</th>\n",
              "      <th>SibSp</th>\n",
              "      <th>Parch</th>\n",
              "      <th>Fare</th>\n",
              "      <th>Cabin</th>\n",
              "      <th>Embarked</th>\n",
              "      <th>Alone</th>\n",
              "      <th>Familiars</th>\n",
              "      <th>Survival_Predictions</th>\n",
              "    </tr>\n",
              "  </thead>\n",
              "  <tbody>\n",
              "    <tr>\n",
              "      <th>0</th>\n",
              "      <td>3</td>\n",
              "      <td>0</td>\n",
              "      <td>34.5</td>\n",
              "      <td>0</td>\n",
              "      <td>0</td>\n",
              "      <td>7.8292</td>\n",
              "      <td>7</td>\n",
              "      <td>3</td>\n",
              "      <td>1</td>\n",
              "      <td>1</td>\n",
              "      <td>0</td>\n",
              "    </tr>\n",
              "    <tr>\n",
              "      <th>1</th>\n",
              "      <td>3</td>\n",
              "      <td>1</td>\n",
              "      <td>47.0</td>\n",
              "      <td>1</td>\n",
              "      <td>0</td>\n",
              "      <td>7.0000</td>\n",
              "      <td>7</td>\n",
              "      <td>1</td>\n",
              "      <td>0</td>\n",
              "      <td>2</td>\n",
              "      <td>0</td>\n",
              "    </tr>\n",
              "    <tr>\n",
              "      <th>2</th>\n",
              "      <td>2</td>\n",
              "      <td>0</td>\n",
              "      <td>62.0</td>\n",
              "      <td>0</td>\n",
              "      <td>0</td>\n",
              "      <td>9.6875</td>\n",
              "      <td>7</td>\n",
              "      <td>3</td>\n",
              "      <td>1</td>\n",
              "      <td>1</td>\n",
              "      <td>0</td>\n",
              "    </tr>\n",
              "    <tr>\n",
              "      <th>3</th>\n",
              "      <td>3</td>\n",
              "      <td>0</td>\n",
              "      <td>27.0</td>\n",
              "      <td>0</td>\n",
              "      <td>0</td>\n",
              "      <td>8.6625</td>\n",
              "      <td>7</td>\n",
              "      <td>1</td>\n",
              "      <td>1</td>\n",
              "      <td>1</td>\n",
              "      <td>1</td>\n",
              "    </tr>\n",
              "    <tr>\n",
              "      <th>4</th>\n",
              "      <td>3</td>\n",
              "      <td>1</td>\n",
              "      <td>22.0</td>\n",
              "      <td>1</td>\n",
              "      <td>1</td>\n",
              "      <td>12.2875</td>\n",
              "      <td>7</td>\n",
              "      <td>1</td>\n",
              "      <td>0</td>\n",
              "      <td>3</td>\n",
              "      <td>1</td>\n",
              "    </tr>\n",
              "  </tbody>\n",
              "</table>\n",
              "</div>\n",
              "      <button class=\"colab-df-convert\" onclick=\"convertToInteractive('df-166567c3-236b-446a-9019-c4b86e57e6a0')\"\n",
              "              title=\"Convert this dataframe to an interactive table.\"\n",
              "              style=\"display:none;\">\n",
              "        \n",
              "  <svg xmlns=\"http://www.w3.org/2000/svg\" height=\"24px\"viewBox=\"0 0 24 24\"\n",
              "       width=\"24px\">\n",
              "    <path d=\"M0 0h24v24H0V0z\" fill=\"none\"/>\n",
              "    <path d=\"M18.56 5.44l.94 2.06.94-2.06 2.06-.94-2.06-.94-.94-2.06-.94 2.06-2.06.94zm-11 1L8.5 8.5l.94-2.06 2.06-.94-2.06-.94L8.5 2.5l-.94 2.06-2.06.94zm10 10l.94 2.06.94-2.06 2.06-.94-2.06-.94-.94-2.06-.94 2.06-2.06.94z\"/><path d=\"M17.41 7.96l-1.37-1.37c-.4-.4-.92-.59-1.43-.59-.52 0-1.04.2-1.43.59L10.3 9.45l-7.72 7.72c-.78.78-.78 2.05 0 2.83L4 21.41c.39.39.9.59 1.41.59.51 0 1.02-.2 1.41-.59l7.78-7.78 2.81-2.81c.8-.78.8-2.07 0-2.86zM5.41 20L4 18.59l7.72-7.72 1.47 1.35L5.41 20z\"/>\n",
              "  </svg>\n",
              "      </button>\n",
              "      \n",
              "  <style>\n",
              "    .colab-df-container {\n",
              "      display:flex;\n",
              "      flex-wrap:wrap;\n",
              "      gap: 12px;\n",
              "    }\n",
              "\n",
              "    .colab-df-convert {\n",
              "      background-color: #E8F0FE;\n",
              "      border: none;\n",
              "      border-radius: 50%;\n",
              "      cursor: pointer;\n",
              "      display: none;\n",
              "      fill: #1967D2;\n",
              "      height: 32px;\n",
              "      padding: 0 0 0 0;\n",
              "      width: 32px;\n",
              "    }\n",
              "\n",
              "    .colab-df-convert:hover {\n",
              "      background-color: #E2EBFA;\n",
              "      box-shadow: 0px 1px 2px rgba(60, 64, 67, 0.3), 0px 1px 3px 1px rgba(60, 64, 67, 0.15);\n",
              "      fill: #174EA6;\n",
              "    }\n",
              "\n",
              "    [theme=dark] .colab-df-convert {\n",
              "      background-color: #3B4455;\n",
              "      fill: #D2E3FC;\n",
              "    }\n",
              "\n",
              "    [theme=dark] .colab-df-convert:hover {\n",
              "      background-color: #434B5C;\n",
              "      box-shadow: 0px 1px 3px 1px rgba(0, 0, 0, 0.15);\n",
              "      filter: drop-shadow(0px 1px 2px rgba(0, 0, 0, 0.3));\n",
              "      fill: #FFFFFF;\n",
              "    }\n",
              "  </style>\n",
              "\n",
              "      <script>\n",
              "        const buttonEl =\n",
              "          document.querySelector('#df-166567c3-236b-446a-9019-c4b86e57e6a0 button.colab-df-convert');\n",
              "        buttonEl.style.display =\n",
              "          google.colab.kernel.accessAllowed ? 'block' : 'none';\n",
              "\n",
              "        async function convertToInteractive(key) {\n",
              "          const element = document.querySelector('#df-166567c3-236b-446a-9019-c4b86e57e6a0');\n",
              "          const dataTable =\n",
              "            await google.colab.kernel.invokeFunction('convertToInteractive',\n",
              "                                                     [key], {});\n",
              "          if (!dataTable) return;\n",
              "\n",
              "          const docLinkHtml = 'Like what you see? Visit the ' +\n",
              "            '<a target=\"_blank\" href=https://colab.research.google.com/notebooks/data_table.ipynb>data table notebook</a>'\n",
              "            + ' to learn more about interactive tables.';\n",
              "          element.innerHTML = '';\n",
              "          dataTable['output_type'] = 'display_data';\n",
              "          await google.colab.output.renderOutput(dataTable, element);\n",
              "          const docLink = document.createElement('div');\n",
              "          docLink.innerHTML = docLinkHtml;\n",
              "          element.appendChild(docLink);\n",
              "        }\n",
              "      </script>\n",
              "    </div>\n",
              "  </div>\n",
              "  "
            ]
          },
          "metadata": {},
          "execution_count": 39
        },
        {
          "output_type": "display_data",
          "data": {
            "text/plain": [
              "<Figure size 576x360 with 2 Axes>"
            ],
            "image/png": "[encoded data removed]"
          },
          "metadata": {}
        }
      ]
    },
    {
      "cell_type": "markdown",
      "source": [
        "A precisão melhorou com a redução de características, o modelo pode identificar melhor os mortos do que sobreviventes, mas isso se deu porque havia maior número deles. Assim foi possível chegar na matriz de confusão e a previsão do nosso conjunto de dados."
      ],
      "metadata": {
        "id": "FjX33VydzPy0"
      }
    },
    {
      "cell_type": "markdown",
      "source": [
        "A classificação dos sobreviventes foi de 85%, isso pois o conjunto de dados é muito pequeno. "
      ],
      "metadata": {
        "id": "NAp3OLEAz82V"
      }
    }
  ]
}